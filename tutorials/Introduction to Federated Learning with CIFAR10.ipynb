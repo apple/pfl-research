{
 "cells": [
  {
   "cell_type": "markdown",
   "metadata": {},
   "source": [
    "# Introduction to Federated Learning with CIFAR10\n",
    "```\n",
    "TODO: rdar://118980539 (when external docs are hosted, change all pointers to it)\n",
    "```\n",
    "\n",
    "This tutorial demonstrates how to train a DNN with `pfl` using Private Federated Learning.\n",
    "We will learn how to train a simple neural network in simulation to classify images from the CIFAR10 dataset.\n",
    "This dataset contains images of 10 different types of objects.\n",
    "Each image is labelled with one object. The dataset is not inherently split into real users, so we have to create artificial user partitions.\n",
    "\n",
    "This tutorial is in TensorFlow. If you are looking for a more advanced tutorial in PyTorch, check out [this tutorial](https://github.com/apple/pfl-research/tree/main/tutorials/Introduction%20to%20PFL%20research%20with%20FLAIR.ipynb)."
   ]
  },
  {
   "cell_type": "markdown",
   "metadata": {},
   "source": [
    "## 0. Install environment & `pfl`\n",
    "To use this notebook, follow these prerequisite steps:\n",
    "\n",
    "```\n",
    "TODO: change instructions when put on colab rdar://105243072 (Make a colab notebook available for training CIFAR10)\n",
    "```\n",
    "\n",
    "1. Follow installation instructions at https://github.com/apple/pfl-research/blob/main/benchmarks/README.md#setup-environment\n",
    "2. Add the kernel created by Poetry to the notebook:\n",
    "```\n",
    "pip install jupyter\n",
    "python -m ipykernel install --name \"notebook-tutorial\"\n",
    "```\n",
    "4. Start the notebook:\n",
    "```\n",
    "python -m jupyter notebook \n",
    "```"
   ]
  },
  {
   "cell_type": "code",
   "execution_count": null,
   "metadata": {},
   "outputs": [],
   "source": [
    "import sys\n",
    "# Additional packages needed to run notebook\n",
    "!{sys.executable} -m pip install matplotlib nest_asyncio"
   ]
  },
  {
   "cell_type": "markdown",
   "metadata": {},
   "source": [
    "<div class=\"alert alert-block alert-warning\">\n",
    "If you installed the packages above, you need to restart the kernel of the notebook by clicking on \"Kernel -> Restart\"\n",
    "</div>"
   ]
  },
  {
   "cell_type": "markdown",
   "metadata": {},
   "source": [
    "## 1. Preparing data for simulations"
   ]
  },
  {
   "cell_type": "markdown",
   "metadata": {},
   "source": [
    "Use the script `pfl-research/dataset/cifar10/download_preprocess.py` to download the CIFAR10 dataset from its original source and preprocess into pickles:"
   ]
  },
  {
   "cell_type": "code",
   "execution_count": 2,
   "metadata": {
    "scrolled": true
   },
   "outputs": [
    {
     "name": "stdout",
     "output_type": "stream",
     "text": [
      "Downloading from https://www.cs.toronto.edu/~kriz/cifar-10-python.tar.gz.\n",
      "Saved raw data to ./data/cifar10/raw_data/cifar-10-python.tar.gz.\n",
      "Merging files ['./data/cifar10/raw_data/cifar-10-batches-py/data_batch_1', './data/cifar10/raw_data/cifar-10-batches-py/data_batch_2', './data/cifar10/raw_data/cifar-10-batches-py/data_batch_5', './data/cifar10/raw_data/cifar-10-batches-py/data_batch_4', './data/cifar10/raw_data/cifar-10-batches-py/data_batch_3'].\n",
      "Saved processed data to ./data/cifar10/cifar10_train.p\n",
      "Merging files ['./data/cifar10/raw_data/cifar-10-batches-py/test_batch'].\n",
      "Saved processed data to ./data/cifar10/cifar10_test.p\n"
     ]
    }
   ],
   "source": [
    "!(cd ../; {sys.executable} -m dataset.cifar10.download_preprocess --output_dir ./data/cifar10)"
   ]
  },
  {
   "cell_type": "code",
   "execution_count": 3,
   "metadata": {},
   "outputs": [],
   "source": [
    "import matplotlib.pyplot as plt\n",
    "import numpy as np\n",
    "import sys\n",
    "import tensorflow as tf\n",
    "\n",
    "# Both Jupyter and `pfl` uses async, nest_asyncio allows `pfl` to run inside the notebook \n",
    "import nest_asyncio\n",
    "nest_asyncio.apply()\n",
    "\n",
    "# append the root directory to your paths to be able to reach the examples.  \n",
    "sys.path.append('../')\n",
    "tf.random.set_seed(7)\n",
    "np.random.seed(7)\n",
    "\n",
    "# Always import the `pfl` model first to let `pfl` know which Deep Learning framework you will use.\n",
    "from pfl.model.tensorflow import TFModel"
   ]
  },
  {
   "cell_type": "code",
   "execution_count": 4,
   "metadata": {},
   "outputs": [
    {
     "name": "stdout",
     "output_type": "stream",
     "text": [
      "Train data shapes: features: (10000, 32, 32, 3) targets: (10000, 10)\n",
      "Dev data shapes:   features: (2000, 32, 32, 3) targets: (2000, 10)\n"
     ]
    }
   ],
   "source": [
    "from dataset.cifar10 import load_and_preprocess\n",
    "# Train only on classes 0 and 2 in this example\n",
    "exclude_classes = [1,3,4,5,6,7,8,9]\n",
    "train_images, train_labels, channel_means, channel_stddevs = load_and_preprocess('../data/cifar10/cifar10_train.p', exclude_classes=exclude_classes)\n",
    "val_images, val_labels, _, _ = load_and_preprocess('../data/cifar10/cifar10_test.p', channel_means, channel_stddevs, exclude_classes=exclude_classes)\n",
    "# Convert labels to one-hot vectors.\n",
    "one_hots = np.eye(10)\n",
    "train_labels = one_hots[train_labels].squeeze()\n",
    "val_labels = one_hots[val_labels].squeeze()\n",
    "\n",
    "print('Train data shapes:', 'features:', train_images.shape, 'targets:', train_labels.shape)\n",
    "print('Dev data shapes:  ', 'features:', val_images.shape, 'targets:', val_labels.shape)"
   ]
  },
  {
   "cell_type": "markdown",
   "metadata": {},
   "source": [
    "As displayed above, the images are of dimensions `32x32` with `3` color channels and the labels are one-hot vectors `[0-9]`. Also, you can see that we exclude all but 2 classes, Airplane (0) and Bird (2), to make things simple for this tutorial.\n",
    "\n",
    "As the data is not inherently split into real users, we need to use [ArtificialFederatedDataset](https://pages.github.apple.com/apple/pfl-research/reference/data.html#pfl.data.federated_dataset.ArtificialFederatedDataset) to sample datapoints to create artificial user datasets for federated learning, which in turn requires a function for sampling the length of a user dataset and the actual datapoints of this dataset.\n",
    "\n",
    "Firstly, we define a function which samples the length of a dataset from a Poisson distribution with mean 5:"
   ]
  },
  {
   "cell_type": "code",
   "execution_count": 5,
   "metadata": {},
   "outputs": [
    {
     "data": {
      "image/png": "[encoded data removed]",
      "text/plain": [
       "<Figure size 640x480 with 1 Axes>"
      ]
     },
     "metadata": {},
     "output_type": "display_data"
    }
   ],
   "source": [
    "def user_dataset_len_sampler():\n",
    "    while True:\n",
    "        length = np.random.poisson(5)\n",
    "        if length > 0:\n",
    "            return length\n",
    "\n",
    "# Visualize sampling from this function.\n",
    "plt.xlabel('Number of datapoints for one user')\n",
    "plt.title('Distribution of user dataset length')\n",
    "plt.hist([user_dataset_len_sampler() for _ in range(100000)])\n",
    "plt.show()"
   ]
  },
  {
   "cell_type": "markdown",
   "metadata": {},
   "source": [
    "Secondly, we define a function `Callable[[length: int], List[int]]` which samples a set of datapoint identifiers of a given length. We use the helper function `get_data_sampler` to build a sampler which draws a set of datapoints uniformly. This will result in IID user datasets. When doing this for your use case you might want to consider sampling in a way which creates more realistic and heterogeneous user datasets."
   ]
  },
  {
   "cell_type": "code",
   "execution_count": 6,
   "metadata": {},
   "outputs": [
    {
     "name": "stdout",
     "output_type": "stream",
     "text": [
      "Sampled a user dataset of length 5 with datapoint ids  [7192 2501 4752 3850 5314]\n"
     ]
    }
   ],
   "source": [
    "from pfl.data.sampling import get_data_sampler\n",
    "\n",
    "train_data_sampler = get_data_sampler('random', len(train_images))\n",
    "val_data_sampler = get_data_sampler('random', len(val_images))\n",
    "\n",
    "print('Sampled a user dataset of length 5 with datapoint ids ', train_data_sampler(5))"
   ]
  },
  {
   "cell_type": "markdown",
   "metadata": {},
   "source": [
    "Thirdly, the federated datasets are initialized using the above sampling functions. We also create a central dataset for central evaluation."
   ]
  },
  {
   "cell_type": "code",
   "execution_count": 7,
   "metadata": {},
   "outputs": [],
   "source": [
    "from pfl.data.federated_dataset import ArtificialFederatedDataset\n",
    "from pfl.data.dataset import Dataset\n",
    "\n",
    "train_federated_dataset = ArtificialFederatedDataset.from_slices([train_images, train_labels], train_data_sampler, user_dataset_len_sampler)\n",
    "val_federated_dataset = ArtificialFederatedDataset.from_slices([val_images, val_labels], val_data_sampler, user_dataset_len_sampler)\n",
    "central_data = Dataset(raw_data=[val_images, val_labels])"
   ]
  },
  {
   "cell_type": "markdown",
   "metadata": {},
   "source": [
    "When iterating through an artificial federated dataset, a user dataset is sampled every iteration."
   ]
  },
  {
   "cell_type": "code",
   "execution_count": 8,
   "metadata": {},
   "outputs": [
    {
     "name": "stdout",
     "output_type": "stream",
     "text": [
      "User: <pfl.data.dataset.Dataset object at 0x296f96da0>, unique user seed: 385465319\n"
     ]
    },
    {
     "data": {
      "image/png": "[encoded data removed]",
      "text/plain": [
       "<Figure size 1200x600 with 3 Axes>"
      ]
     },
     "metadata": {},
     "output_type": "display_data"
    }
   ],
   "source": [
    "user, seed = next(train_federated_dataset)\n",
    "print('User: {}, unique user seed: {}'.format(user, seed))\n",
    "fig, axes = plt.subplots(1,len(user),figsize=(12,6))\n",
    "for ax, image, label in zip(axes, *user.raw_data):\n",
    "    ax.set_title('label={}'.format(np.argmax(label)))\n",
    "    ax.imshow((image*channel_stddevs + channel_means).astype(np.uint8))"
   ]
  },
  {
   "cell_type": "markdown",
   "metadata": {},
   "source": [
    "## 2. Defining the model"
   ]
  },
  {
   "cell_type": "markdown",
   "metadata": {},
   "source": [
    "Defining a model in `pfl` is exactly the same as you would normally define a model for training. One of `pfl`’s strengths is that it is agnostic to any Deep Learning framework, which enables `pfl` to support multiple Deep Learning frameworks. \n",
    "\n",
    "At this moment, frameworks supported by `pfl` are TensorFlow and PyTorch.\n",
    "`pfl` also support ML models like GBDTs which use numpy.\n",
    "\n",
    "We will define a Keras model in the exact same way as we would for regular centralized training."
   ]
  },
  {
   "cell_type": "code",
   "execution_count": 14,
   "metadata": {},
   "outputs": [
    {
     "name": "stderr",
     "output_type": "stream",
     "text": [
      "WARNING:absl:At this time, the v2.11+ optimizer `tf.keras.optimizers.SGD` runs slowly on M1/M2 Macs, please use the legacy Keras optimizer instead, located at `tf.keras.optimizers.legacy.SGD`.\n"
     ]
    },
    {
     "name": "stdout",
     "output_type": "stream",
     "text": [
      "Model: \"model_2\"\n",
      "_________________________________________________________________\n",
      " Layer (type)                Output Shape              Param #   \n",
      "=================================================================\n",
      " input_3 (InputLayer)        [(None, 32, 32, 3)]       0         \n",
      "                                                                 \n",
      " reshape_2 (Reshape)         (None, 3072)              0         \n",
      "                                                                 \n",
      " dense_6 (Dense)             (None, 50)                153650    \n",
      "                                                                 \n",
      " dense_7 (Dense)             (None, 50)                2550      \n",
      "                                                                 \n",
      " dense_8 (Dense)             (None, 10)                510       \n",
      "                                                                 \n",
      "=================================================================\n",
      "Total params: 156710 (612.15 KB)\n",
      "Trainable params: 156710 (612.15 KB)\n",
      "Non-trainable params: 0 (0.00 Byte)\n",
      "_________________________________________________________________\n"
     ]
    }
   ],
   "source": [
    "from tensorflow.keras.layers import Input, Dense, Reshape\n",
    "from tensorflow.keras.models import Model\n",
    "from tensorflow.keras.optimizers import SGD\n",
    "\n",
    "inputs = Input(shape=(32,32,3))\n",
    "inputs_flat = Reshape((3072,), input_shape=(32,32,3))(inputs)\n",
    "layer1 = Dense(50, activation='relu')(inputs_flat)\n",
    "layer2 = Dense(50, activation='relu')(layer1)\n",
    "predictions = Dense(10, activation='softmax')(layer2)\n",
    "\n",
    "# configure the model for training,\n",
    "# specifying inputs, outputs, optimiser, loss, metrics, etc.\n",
    "keras_model = Model(inputs=inputs, outputs=predictions)\n",
    "keras_model.compile(SGD(0.01), loss='categorical_crossentropy')\n",
    "\n",
    "keras_model.summary()"
   ]
  },
  {
   "cell_type": "markdown",
   "metadata": {},
   "source": [
    "To train a model using `pfl`, a [Model](https://pages.github.apple.com/apple/pfl-research/reference/model.html#models) object must be instantiated for the Deep Learning framework in which the model was defined. A `pfl` Model acts as an adapter between the model of the Deep Learning framework and `pfl`. We use Keras with TensorFlow for this example.\n",
    "\n",
    "The central optimizer is an input parameter to the model object. This optimizer is used when applying the aggregated model update to the central model."
   ]
  },
  {
   "cell_type": "code",
   "execution_count": 15,
   "metadata": {},
   "outputs": [
    {
     "name": "stderr",
     "output_type": "stream",
     "text": [
      "WARNING:absl:At this time, the v2.11+ optimizer `tf.keras.optimizers.SGD` runs slowly on M1/M2 Macs, please use the legacy Keras optimizer instead, located at `tf.keras.optimizers.legacy.SGD`.\n"
     ]
    }
   ],
   "source": [
    "from pfl.model.tensorflow import TFModel\n",
    "\n",
    "metrics = {\n",
    "    'accuracy': tf.keras.metrics.CategoricalAccuracy(),\n",
    "    'loss': tf.keras.metrics.CategoricalCrossentropy()\n",
    "}\n",
    "model = TFModel(model=keras_model, \n",
    "                central_optimizer=tf.keras.optimizers.SGD(1.0), \n",
    "                metrics=metrics)"
   ]
  },
  {
   "cell_type": "markdown",
   "metadata": {},
   "source": [
    "## 3. Training a model using Private Federated Learning"
   ]
  },
  {
   "cell_type": "markdown",
   "metadata": {},
   "source": [
    "`Backend` is a component in `pfl` used to collect and average statistics from user devices. [SimulatedBackend](https://pages.github.apple.com/apple/pfl-research/reference/aggregate.html#pfl.aggregate.SimulatedBackend) provides simulation. For larger datasets or models, it also [supports distributed simulations](https://pages.github.apple.com/apple/pfl-research/tutorials/simulation_distributed.html) with multiple processes, GPUs and machines.\n",
    "\n",
    "`pfl` provides various privacy mechanisms in [pfl.privacy](https://pages.github.apple.com/apple/pfl-research/reference/privacy.html#module-privacy).\n",
    "These mechanisms are used to guarantee local and/or central differential privacy and are parameterized by `SimulatedBackend` in simulations.\n",
    "\n",
    "Below, we initialize `SimulatedBackend` with Gaussian Moments Accountant as the central differential privacy mechanism, which provides the minimum privacy guarantee required by most use-cases."
   ]
  },
  {
   "cell_type": "code",
   "execution_count": 16,
   "metadata": {},
   "outputs": [],
   "source": [
    "from pfl.aggregate.simulate import SimulatedBackend\n",
    "from pfl.privacy import CentrallyAppliedPrivacyMechanism, GaussianMechanism, PLDPrivacyAccountant\n",
    "\n",
    "cohort_size = 200\n",
    "central_num_iterations = 5\n",
    "population = 1e7\n",
    "\n",
    "# Use Gaussian Moments Accountant, and transform it to a central privacy mechanism.\n",
    "accountant = PLDPrivacyAccountant(\n",
    "    num_compositions=central_num_iterations,\n",
    "    sampling_probability=cohort_size / population,\n",
    "    mechanism='gaussian',\n",
    "    epsilon=2,\n",
    "    delta=1e-5)\n",
    "central_privacy = CentrallyAppliedPrivacyMechanism(\n",
    "    GaussianMechanism.from_privacy_accountant(accountant=accountant, clipping_bound=1.0))\n",
    "\n",
    "# Instantiate simulated federated averaging\n",
    "simulated_backend = SimulatedBackend(\n",
    "    training_data=train_federated_dataset,\n",
    "    val_data=val_federated_dataset,\n",
    "    postprocessors=[\n",
    "        central_privacy\n",
    "    ])"
   ]
  },
  {
   "cell_type": "markdown",
   "metadata": {},
   "source": [
    "The main component of a `pfl` modeling setup is the algorithm. In this tutorial, we will be using the [Federated Averaging](https://arxiv.org/pdf/1602.05629.pdf) algorithm. `pfl` implements Federated Averaging using the class [FederatedAveraging](https://pages.github.apple.com/apple/pfl-research/reference/algorithm.html#pfl.algorithm.federated_averaging.FederatedAveraging).\n",
    "\n",
    "Everything is tied together in the `run` method of an algorithm. This method requires the model, backend, optional callbacks, as well as hyperparameters, which depends on the model and algorithm combination. In this case, training a neural network with federated averaging requires a `NNTrainHyperParams` and `NNAlgorithmParams`.\n",
    "\n",
    "Important hyperparameters for federated learning include `local_learning_rate` and `local_num_epochs` which respectively specify the learning rate and the number of training epochs to be used for local training on devices during federated averaging. These hyperparameters differ to `central_learning_rate` and `central_num_iterations` which apply to training the central model using aggregated updates from devices."
   ]
  },
  {
   "cell_type": "code",
   "execution_count": 17,
   "metadata": {
    "scrolled": false
   },
   "outputs": [
    {
     "name": "stderr",
     "output_type": "stream",
     "text": [
      "WARNING:pfl.internal.ops.tensorflow_ops:Regenerated graph for evaluate_forward_prop-34d66a01 after cache miss\n",
      "2024-01-03 11:52:01.838387: E tensorflow/core/grappler/optimizers/meta_optimizer.cc:961] model_pruner failed: INVALID_ARGUMENT: Graph does not contain terminal node SGD/AssignVariableOp.\n",
      "WARNING:pfl.internal.ops.tensorflow_ops:Regenerated graph for train_step-34d66a01 after cache miss\n",
      "2024-01-03 11:52:10.443050: I metal_plugin/src/kernels/stateless_random_op.cc:282] Note the GPU implementation does not produce the same series as CPU implementation.\n"
     ]
    },
    {
     "name": "stdout",
     "output_type": "stream",
     "text": [
      "Metrics at iteration 0 ():\n",
      "    Central val | accuracy                            : 0.10900000482797623\n",
      "    Central val | loss                                : 3.725792646408081\n",
      "    Central val | number of data points               : 2000.0\n",
      "    Train population | number of devices              : 200\n",
      "    Train population | number of data points (avg)    : 4.905\n",
      "    Train population | accuracy before local training : 0.08256881684064865\n",
      "    Train population | loss before local training     : 3.7579450607299805\n",
      "    Train population | accuracy after local training  : 0.7512742877006531\n",
      "    Train population | loss after local training      : 3.3435134887695312\n",
      "    Central DP | l2 norm bound (avg)                  : 1.0\n",
      "    Central DP | fraction of clipped norms (avg)      : 0.75\n",
      "    Central DP | norm before clipping (avg)           : 4.074158689081669\n",
      "    Train population | total weight (avg)             : 1.0\n",
      "    Central DP | DP noise std. dev. on summed stats (avg): 0.2452850341796875\n",
      "    Central DP | signal-to-DP-noise ratio on summed stats: 0.5254990067108867\n",
      "    Number of parameters                              : 156710\n",
      "    Val population | number of devices                : 10\n",
      "    Val population | number of data points (avg)      : 6.2\n",
      "    Val population | accuracy before local training   : 0.12903225421905518\n",
      "    Val population | loss before local training       : 3.8649044036865234\n",
      "    Learning rate (avg)                               : 1.0\n"
     ]
    },
    {
     "name": "stderr",
     "output_type": "stream",
     "text": [
      "2024-01-03 11:52:15.987010: I metal_plugin/src/kernels/stateless_random_op.cc:282] Note the GPU implementation does not produce the same series as CPU implementation.\n"
     ]
    },
    {
     "name": "stdout",
     "output_type": "stream",
     "text": [
      "Metrics at iteration 1 ():\n",
      "    Train population | number of devices              : 200\n",
      "    Train population | number of data points (avg)    : 5.345\n",
      "    Central DP | l2 norm bound (avg)                  : 1.0\n",
      "    Central DP | fraction of clipped norms (avg)      : 0.595\n",
      "    Central DP | norm before clipping (avg)           : 2.846940990793519\n",
      "    Train population | total weight (avg)             : 1.0\n",
      "    Central DP | DP noise std. dev. on summed stats (avg): 0.2452850341796875\n",
      "    Central DP | signal-to-DP-noise ratio on summed stats: 0.32162982281702157\n",
      "    Number of parameters                              : 156710\n",
      "    Learning rate (avg)                               : 1.0\n"
     ]
    },
    {
     "name": "stderr",
     "output_type": "stream",
     "text": [
      "2024-01-03 11:52:21.608804: I metal_plugin/src/kernels/stateless_random_op.cc:282] Note the GPU implementation does not produce the same series as CPU implementation.\n"
     ]
    },
    {
     "name": "stdout",
     "output_type": "stream",
     "text": [
      "Metrics at iteration 2 ():\n",
      "    Train population | number of devices              : 200\n",
      "    Train population | number of data points (avg)    : 5.11\n",
      "    Central DP | l2 norm bound (avg)                  : 1.0\n",
      "    Central DP | fraction of clipped norms (avg)      : 0.55\n",
      "    Central DP | norm before clipping (avg)           : 3.1515354821062647\n",
      "    Train population | total weight (avg)             : 1.0\n",
      "    Central DP | DP noise std. dev. on summed stats (avg): 0.2452850341796875\n",
      "    Central DP | signal-to-DP-noise ratio on summed stats: 0.3170169874695218\n",
      "    Number of parameters                              : 156710\n",
      "    Learning rate (avg)                               : 1.0\n"
     ]
    },
    {
     "name": "stderr",
     "output_type": "stream",
     "text": [
      "2024-01-03 11:52:27.099879: I metal_plugin/src/kernels/stateless_random_op.cc:282] Note the GPU implementation does not produce the same series as CPU implementation.\n"
     ]
    },
    {
     "name": "stdout",
     "output_type": "stream",
     "text": [
      "Metrics at iteration 3 ():\n",
      "    Train population | number of devices              : 200\n",
      "    Train population | number of data points (avg)    : 4.985\n",
      "    Central DP | l2 norm bound (avg)                  : 1.0\n",
      "    Central DP | fraction of clipped norms (avg)      : 0.485\n",
      "    Central DP | norm before clipping (avg)           : 4.741097405061883\n",
      "    Train population | total weight (avg)             : 1.0\n",
      "    Central DP | DP noise std. dev. on summed stats (avg): 0.2452850341796875\n",
      "    Central DP | signal-to-DP-noise ratio on summed stats: 0.26263527855837265\n",
      "    Number of parameters                              : 156710\n",
      "    Learning rate (avg)                               : 1.0\n",
      "Metrics at iteration 4 ():\n",
      "    Train population | number of devices              : 200\n",
      "    Train population | number of data points (avg)    : 4.995\n",
      "    Train population | accuracy before local training : 0.586586594581604\n",
      "    Train population | loss before local training     : 2.3084347248077393\n",
      "    Train population | accuracy after local training  : 0.7217217087745667\n",
      "    Train population | loss after local training      : 3.6506388187408447\n",
      "    Central DP | l2 norm bound (avg)                  : 1.0\n",
      "    Central DP | fraction of clipped norms (avg)      : 0.46\n",
      "    Central DP | norm before clipping (avg)           : 3.9037180247809737\n",
      "    Train population | total weight (avg)             : 1.0\n",
      "    Central DP | DP noise std. dev. on summed stats (avg): 0.2452850341796875\n",
      "    Central DP | signal-to-DP-noise ratio on summed stats: 0.2460333574381938\n",
      "    Number of parameters                              : 156710\n",
      "    Val population | number of devices                : 10\n",
      "    Val population | number of data points (avg)      : 4.7\n",
      "    Val population | accuracy before local training   : 0.6808511018753052\n",
      "    Val population | loss before local training       : 1.706871747970581\n",
      "    Learning rate (avg)                               : 1.0\n",
      "    Central val | accuracy                            : 0.6290000081062317\n",
      "    Central val | loss                                : 2.3848958015441895\n",
      "    Central val | number of data points               : 2000.0\n"
     ]
    },
    {
     "name": "stderr",
     "output_type": "stream",
     "text": [
      "2024-01-03 11:52:35.649384: I metal_plugin/src/kernels/stateless_random_op.cc:282] Note the GPU implementation does not produce the same series as CPU implementation.\n"
     ]
    },
    {
     "data": {
      "text/plain": [
       "<pfl.model.tensorflow.TFModel at 0x35ba3b1f0>"
      ]
     },
     "execution_count": 17,
     "metadata": {},
     "output_type": "execute_result"
    }
   ],
   "source": [
    "from pfl.algorithm import FederatedAveraging, NNAlgorithmParams\n",
    "from pfl.callback import CentralEvaluationCallback\n",
    "from pfl.hyperparam import NNTrainHyperParams, NNEvalHyperParams\n",
    "\n",
    "model_train_params = NNTrainHyperParams(\n",
    "    local_learning_rate=0.05,\n",
    "    local_num_epochs=2,\n",
    "    local_batch_size=5)\n",
    "\n",
    "# Do full-batch evaluation to run faster.\n",
    "model_eval_params = NNEvalHyperParams(local_batch_size=None)\n",
    "\n",
    "algorithm_params = NNAlgorithmParams(\n",
    "    central_num_iterations=central_num_iterations,\n",
    "    evaluation_frequency=4,\n",
    "    train_cohort_size=cohort_size,\n",
    "    val_cohort_size=10)\n",
    "\n",
    "callbacks = [CentralEvaluationCallback(central_data, model_eval_params, 4)]\n",
    "\n",
    "algorithm = FederatedAveraging()\n",
    "algorithm.run(\n",
    "    backend=simulated_backend,\n",
    "    model=model,\n",
    "    algorithm_params=algorithm_params,\n",
    "    model_train_params=model_train_params,\n",
    "    model_eval_params=model_eval_params,\n",
    "    callbacks=callbacks)"
   ]
  },
  {
   "cell_type": "markdown",
   "metadata": {},
   "source": [
    "## Next steps\n",
    "This concludes the basics for simulating PFL using a simple dataset with TensorFlow.\n",
    "\n",
    "* If you want to learn more about how to do research with `pfl`, check out [this tutorial](https://github.com/apple/pfl-research/tree/main/tutorials/Introduction%20to%20PFL%20research%20with%20FLAIR.ipynb) in PyTorch.\n",
    "* If you want to try the benchmark suite and learn setups for different datasets and models, see [our benchmark setups](https://github.com/apple/pfl-research/tree/main/benchmarks)."
   ]
  },
  {
   "cell_type": "code",
   "execution_count": null,
   "metadata": {},
   "outputs": [],
   "source": []
  }
 ],
 "metadata": {
  "kernelspec": {
   "display_name": "pfl-research-h3OtmXlu-py3.10",
   "language": "python",
   "name": "pfl-research-h3otmxlu-py3.10"
  },
  "language_info": {
   "codemirror_mode": {
    "name": "ipython",
    "version": 3
   },
   "file_extension": ".py",
   "mimetype": "text/x-python",
   "name": "python",
   "nbconvert_exporter": "python",
   "pygments_lexer": "ipython3",
   "version": "3.10.12"
  }
 },
 "nbformat": 4,
 "nbformat_minor": 4
}
