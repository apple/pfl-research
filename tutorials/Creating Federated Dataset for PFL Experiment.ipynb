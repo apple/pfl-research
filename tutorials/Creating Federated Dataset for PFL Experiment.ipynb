{
 "cells": [
  {
   "cell_type": "markdown",
   "id": "81bde9ad-13ac-4851-b958-db7085a38cdc",
   "metadata": {},
   "source": [
    "# Creating Federated Dataset for PFL Experiment\n",
    "\n",
    "Federated dataset has more non-IID characteristics than traditional ML dataset, as users with different contexts independently generate their own data. In realistic scenarios, datasets for different users often come from different distributions and may possibly have conflicting labels. Because of this and the distributed nature of federated learning, the non-IID property of the federated datasets may sometimes make federated learning more challenging.\n",
    "\n",
    "This tutorial covers how to create federated dataset in different ways for running PFL experiment:\n",
    "\n",
    "1. creating `pfl` `Dataset` object\n",
    "2. creating `FederatedDataset` with user IDs\n",
    "3. creating IID `ArtificialFederatedDataset`\n",
    "4. creating non-IID `ArtificialFederatedDataset`\n",
    "5. customizing federated dataset"
   ]
  },
  {
   "cell_type": "markdown",
   "id": "07eedfc5-27a1-4aed-b774-ce8d24eb1add",
   "metadata": {},
   "source": [
    "### 0. Setup environment\n",
    "To use this notebook, follow these prerequisite steps:\n",
    "1. Install `pfl` with `pip install 'pfl[pytorch]'`.\n",
    "2. Install jupyter notebook with `pip install jupyter notebook`.\n",
    "3. Start the notebook with `jupyter notebook`."
   ]
  },
  {
   "cell_type": "markdown",
   "id": "9de0aba5-414c-4df3-8d17-176a2856092c",
   "metadata": {},
   "source": [
    "### 1. Creating a `pfl` Dataset Object\n",
    "A `pfl.data.Dataset` object is the basic representation for a single user's dataset. Alternatively, this can also be used for building a central dataset for evaluation purpose (to be used with `pfl.callback.CentralEvaluationCallback`).   "
   ]
  },
  {
   "cell_type": "code",
   "execution_count": 1,
   "id": "b27e01f4-3d34-42b0-ad02-795af03d356e",
   "metadata": {},
   "outputs": [
    {
     "name": "stdout",
     "output_type": "stream",
     "text": [
      "Batch from `Dataset`: \n",
      "x shape=(5, 4), x=[[-0.93396889  1.38144275 -0.25651903 -0.07058005]\n",
      " [ 1.47505537  1.60093462  2.18438982  0.21201945]\n",
      " [-1.25481843 -0.74810518 -1.5695337  -0.16404775]\n",
      " [ 2.02581709  0.76572641  2.32598324  0.25309372]\n",
      " [-0.61718078 -1.44501622 -1.27858726 -0.10931645]]\n",
      "y shape=(5,), y=[1 1 0 0 0]\n"
     ]
    }
   ],
   "source": [
    "import sklearn.datasets\n",
    "from pfl.data.dataset import Dataset\n",
    "\n",
    "# Create synthetic user data\n",
    "user_id = 'pfl-user-0'\n",
    "user_features, user_labels = sklearn.datasets.make_classification(n_samples=10, n_features=4)\n",
    "\n",
    "# Create a pfl Dataset object\n",
    "user_dataset = Dataset(raw_data=[user_features, user_labels], user_id=user_id)\n",
    "\n",
    "# Get a batch of the user dataset using Dataset.iter\n",
    "batch_x, batch_y = next(user_dataset.iter(batch_size=5))\n",
    "print(f\"Batch from `Dataset`: \\n\"\n",
    "      f\"x shape={batch_x.shape}, x={batch_x}\\n\"\n",
    "      f\"y shape={batch_y.shape}, y={batch_y}\")"
   ]
  },
  {
   "cell_type": "markdown",
   "id": "114f507b-c096-40e5-904b-55485378d3fe",
   "metadata": {},
   "source": [
    "#### 1.1 Creating a PyTorch `pfl` Dataset Object\n",
    "The above example showed how to create the `pfl` dataset in numpy format. `pfl`  supports data that are processed in PyTorch or TensorFlow tensors. We will focus on PyTorch for the purpose of this tutorial. The TensorFlow dataset implementation can be found at [tensorflow.py](https://github.com/apple/pfl-research/blob/main/pfl/data/tensorflow.py)."
   ]
  },
  {
   "cell_type": "code",
   "execution_count": 2,
   "id": "5b2f45d9-dd20-4313-90e6-342b2cdbc0a0",
   "metadata": {},
   "outputs": [],
   "source": [
    "import os\n",
    "os.environ['PFL_PYTORCH_DEVICE'] = 'cpu'\n",
    "\n",
    "import torch\n",
    "\n",
    "from pfl.internal.ops.selector import set_framework_module\n",
    "from pfl.internal.ops import pytorch_ops, numpy_ops\n",
    "from pfl.data.pytorch import PyTorchTensorDataset, PyTorchDataDataset\n",
    "\n",
    "# Tell pfl to use pytorch as the backend ML framework\n",
    "set_framework_module(pytorch_ops, old_module=numpy_ops)"
   ]
  },
  {
   "cell_type": "code",
   "execution_count": 3,
   "id": "5da0039d-ebc4-4fef-b2e6-d6eae9512cbf",
   "metadata": {},
   "outputs": [
    {
     "name": "stdout",
     "output_type": "stream",
     "text": [
      "Batch from `PyTorchTensorDataset`: \n",
      "x shape=torch.Size([5, 4]), x=tensor([[-0.9340,  1.3814, -0.2565, -0.0706],\n",
      "        [ 1.4751,  1.6009,  2.1844,  0.2120],\n",
      "        [-1.2548, -0.7481, -1.5695, -0.1640],\n",
      "        [ 2.0258,  0.7657,  2.3260,  0.2531],\n",
      "        [-0.6172, -1.4450, -1.2786, -0.1093]], dtype=torch.float64)\n",
      "y shape=torch.Size([5]), y=tensor([1, 1, 0, 0, 0])\n"
     ]
    }
   ],
   "source": [
    "# Option 1: Create a PyTorch pfl Dataset object based on PyTorch tensors\n",
    "user_features, user_labels = torch.as_tensor(user_features), torch.as_tensor(user_labels)\n",
    "user_dataset = PyTorchTensorDataset(tensors=[user_features, user_labels], user_id=user_id)\n",
    "\n",
    "# Get a batch of the user dataset using Dataset.iter\n",
    "batch_x, batch_y = next(user_dataset.iter(batch_size=5))\n",
    "print(f\"Batch from `PyTorchTensorDataset`: \\n\"\n",
    "      f\"x shape={batch_x.shape}, x={batch_x}\\n\"\n",
    "      f\"y shape={batch_y.shape}, y={batch_y}\")"
   ]
  },
  {
   "cell_type": "code",
   "execution_count": 4,
   "id": "b04168ad-6349-4019-a957-e80d9249c053",
   "metadata": {},
   "outputs": [
    {
     "name": "stdout",
     "output_type": "stream",
     "text": [
      "\n",
      "Batch from `PyTorchDataDataset`: \n",
      "x shape=torch.Size([5, 4]), x=tensor([[-0.9340,  1.3814, -0.2565, -0.0706],\n",
      "        [ 1.4751,  1.6009,  2.1844,  0.2120],\n",
      "        [-1.2548, -0.7481, -1.5695, -0.1640],\n",
      "        [ 2.0258,  0.7657,  2.3260,  0.2531],\n",
      "        [-0.6172, -1.4450, -1.2786, -0.1093]], dtype=torch.float64)\n",
      "y shape=torch.Size([5]), y=tensor([1, 1, 0, 0, 0])\n"
     ]
    }
   ],
   "source": [
    "# Option 2: Create a PyTorch pfl Dataset object based on torch.utils.data.Dataset\n",
    "pytorch_data = torch.utils.data.TensorDataset(user_features, user_labels)\n",
    "user_dataset = PyTorchDataDataset(raw_data=pytorch_data, user_id=user_id)\n",
    "\n",
    "# Get a batch of the user dataset using Dataset.iter\n",
    "batch_x, batch_y = next(user_dataset.iter(batch_size=5))\n",
    "print(f\"\\nBatch from `PyTorchDataDataset`: \\n\"\n",
    "      f\"x shape={batch_x.shape}, x={batch_x}\\n\"\n",
    "      f\"y shape={batch_y.shape}, y={batch_y}\")"
   ]
  },
  {
   "cell_type": "markdown",
   "id": "c00a623e-4622-486a-96c5-97d9531e6e66",
   "metadata": {},
   "source": [
    "### 2. Creating Federated Dataset with Real User Partition\n",
    "Previous section showed how to create a single user dataset.  This section covers how to create a federated dataset which is a joint of multiple users' dataset. If the original dataset already have an attribute for user identifier, such as [StackOverflow](https://www.kaggle.com/datasets/stackoverflow/stackoverflow), [LEAF](https://leaf.cmu.edu) ans [FLAIR](https://github.com/apple/ml-flair), we can use the existing user parition in the dataset for more accurate simulation of non-IID characteristics in the real federated learning setting. "
   ]
  },
  {
   "cell_type": "code",
   "execution_count": 5,
   "id": "9aab7f23-8391-4483-94e6-26df8751869d",
   "metadata": {},
   "outputs": [
    {
     "name": "stdout",
     "output_type": "stream",
     "text": [
      "FederatedDataset with real user partition: \n",
      "\tReal user with user_id=13 has size of 14.\n",
      "\tReal user with user_id=11 has size of 12.\n",
      "\tReal user with user_id=4 has size of 5.\n",
      "\tReal user with user_id=8 has size of 9.\n",
      "\tReal user with user_id=10 has size of 11.\n"
     ]
    }
   ],
   "source": [
    "from pfl.data import get_user_sampler, FederatedDataset\n",
    "\n",
    "# Create a dataset partitioned by user\n",
    "user_id_to_data = {}\n",
    "n_users = 20\n",
    "for i in range(n_users):\n",
    "    user_id_to_data[i] = sklearn.datasets.make_classification(n_samples=i+1, n_features=4)\n",
    "user_ids = list(user_id_to_data.keys())\n",
    "\n",
    "# Create user sampler to sample user uniformly at random\n",
    "user_sampler = get_user_sampler(sample_type=\"random\", user_ids=user_ids)\n",
    "federated_dataset = FederatedDataset.from_slices(data=user_id_to_data, user_sampler=user_sampler)\n",
    "\n",
    "# Iterate federated dataset to get artificial user dataset\n",
    "print(\"FederatedDataset with real user partition: \")\n",
    "for i in range(5):\n",
    "    user_dataset, seed = next(federated_dataset)\n",
    "    print(f\"\\tReal user with user_id={user_dataset.user_id} has size of {len(user_dataset)}.\")"
   ]
  },
  {
   "cell_type": "markdown",
   "id": "b03d2a10-830b-43ba-b75a-9d31fd161dbd",
   "metadata": {},
   "source": [
    "#### 2.1 Creating a `PyTorchFederatedDataset` Object\n",
    "In certain scenario, it might be beneficial to use `PyTorchFederatedDataset` for speeding up data loading. "
   ]
  },
  {
   "cell_type": "code",
   "execution_count": 6,
   "id": "abcc9809-c324-458c-b146-826ece3cf0f5",
   "metadata": {},
   "outputs": [
    {
     "name": "stdout",
     "output_type": "stream",
     "text": [
      "PyTorchFederatedDataset with real user partition: \n",
      "\tReal user 0 has size of 13.\n",
      "\tReal user 1 has size of 18.\n",
      "\tReal user 2 has size of 7.\n",
      "\tReal user 3 has size of 16.\n",
      "\tReal user 4 has size of 7.\n"
     ]
    }
   ],
   "source": [
    "from pfl.data.pytorch import PyTorchFederatedDataset\n",
    "\n",
    "class PyTorchDataset(torch.utils.data.Dataset):\n",
    "    def __init__(self, user_id_to_data):\n",
    "        self._user_id_to_data = user_id_to_data\n",
    "\n",
    "    def __getitem__(self, i):\n",
    "        return [torch.as_tensor(x) for x in self._user_id_to_data[i]]\n",
    "\n",
    "    def __len__(self):\n",
    "        return len(self._user_id_to_data)\n",
    "\n",
    "\n",
    "pytorch_dataset = PyTorchDataset(user_id_to_data)\n",
    "federated_dataset = PyTorchFederatedDataset(dataset=pytorch_dataset, user_sampler=user_sampler)\n",
    "# Iterate federated dataset to get artificial user dataset\n",
    "print(\"PyTorchFederatedDataset with real user partition: \")\n",
    "for i in range(5):\n",
    "    user_dataset, seed = next(federated_dataset)\n",
    "    print(f\"\\tReal user {i} has size of {len(user_dataset)}.\")"
   ]
  },
  {
   "cell_type": "markdown",
   "id": "63bbbac5-6907-4710-adaf-10d472d434e1",
   "metadata": {},
   "source": [
    "#### 2.2 Creating a `FederatedDataset` with `torch.utils.data.Dataset`\n",
    "If a user dataset is too large to fit into memory, `pfl` also supports `torch.utils.data.Dataset` for creating federated dataset.\n"
   ]
  },
  {
   "cell_type": "code",
   "execution_count": 7,
   "id": "6b69e7d1-a089-462c-9448-1dae917e7d8f",
   "metadata": {},
   "outputs": [
    {
     "name": "stdout",
     "output_type": "stream",
     "text": [
      "FederatedDataset with torch.utils.data.Dataset and real user partition: \n",
      "\tReal user 0 has size of 5.\n",
      "\tReal user 1 has size of 7.\n",
      "\tReal user 2 has size of 5.\n",
      "\tReal user 3 has size of 11.\n",
      "\tReal user 4 has size of 12.\n"
     ]
    }
   ],
   "source": [
    "def make_dataset_fn(user_id):\n",
    "    # Create a `torch.utils.data.Dataset` for a single user\n",
    "    user_data = [torch.as_tensor(data) for data in user_id_to_data[user_id]]\n",
    "    pytorch_data = torch.utils.data.TensorDataset(*user_data)\n",
    "    return PyTorchDataDataset(raw_data=pytorch_data, user_id=user_id)\n",
    "\n",
    "federated_dataset = FederatedDataset(make_dataset_fn=make_dataset_fn, user_sampler=user_sampler)\n",
    "print(\"FederatedDataset with torch.utils.data.Dataset and real user partition: \")\n",
    "for i in range(5):\n",
    "    user_dataset, seed = next(federated_dataset)\n",
    "    print(f\"\\tReal user {i} has size of {len(user_dataset)}.\")"
   ]
  },
  {
   "cell_type": "markdown",
   "id": "261ffc5d-3467-4880-b616-8954f209ddfa",
   "metadata": {},
   "source": [
    "### 3. Creating IID Artificial Federated Dataset\n",
    "The previous section assumes that a dataset has user IDs, which is often not the case for many existing ML datasets (e.g. CIFAR10). For those datasets, `pfl` supports converting them to Artificial Federated Dataset, meaning that there is no user ID associated with the dataset and the user partition will be artificial, which is useful for experimenting existing ML datasets. This section covers how to create an Artificial Federated Dataset assuming the data distribution between users is IID. "
   ]
  },
  {
   "cell_type": "code",
   "execution_count": 8,
   "id": "8142003a-ca94-4cd7-87cc-f2843806e0c8",
   "metadata": {},
   "outputs": [
    {
     "name": "stdout",
     "output_type": "stream",
     "text": [
      "User dataset size is a constant: \n",
      "\tArtificial user 0 has size of 10\n",
      "\tArtificial user 1 has size of 10\n",
      "\tArtificial user 2 has size of 10\n",
      "\tArtificial user 3 has size of 10\n",
      "\tArtificial user 4 has size of 10\n"
     ]
    }
   ],
   "source": [
    "import numpy as np\n",
    "from pfl.data import ArtificialFederatedDataset, get_data_sampler\n",
    "\n",
    "\n",
    "n_samples = 1000\n",
    "features, labels = sklearn.datasets.make_classification(n_samples=n_samples, n_features=8, n_informative=4, n_classes=5)\n",
    "# Create data sampler to sample each artificial user dataset as a random subset of the original dataset\n",
    "data_sampler = get_data_sampler(sample_type=\"random\", max_bound=n_samples)\n",
    "\n",
    "# Option 1: Create an artificial federated dataset where each user dataset has constant size of 10\n",
    "sample_dataset_len = lambda: 10\n",
    "federated_dataset = ArtificialFederatedDataset.from_slices(\n",
    "    data=[features, labels], \n",
    "    data_sampler=data_sampler,\n",
    "    sample_dataset_len=sample_dataset_len,\n",
    ")\n",
    "# Iterate federated dataset to get artificial user dataset\n",
    "print(\"User dataset size is a constant: \")\n",
    "for i in range(5):\n",
    "    user_dataset, seed = next(federated_dataset)\n",
    "    print(f\"\\tArtificial user {i} has size of {len(user_dataset)}\")"
   ]
  },
  {
   "cell_type": "code",
   "execution_count": 9,
   "id": "851dcde1-fb72-4d82-90aa-26db3e4c3d06",
   "metadata": {},
   "outputs": [
    {
     "name": "stdout",
     "output_type": "stream",
     "text": [
      "\n",
      "User dataset size follows a Poisson distribution: \n",
      "\tArtificial user 0 has size of 12\n",
      "\tArtificial user 1 has size of 7\n",
      "\tArtificial user 2 has size of 7\n",
      "\tArtificial user 3 has size of 13\n",
      "\tArtificial user 4 has size of 12\n"
     ]
    }
   ],
   "source": [
    "# Option 2: Create an artificial federated dataset where each user dataset size follows Poisson distribution\n",
    "sample_dataset_len = lambda: max(1, np.random.poisson(10))\n",
    "federated_dataset = ArtificialFederatedDataset.from_slices(\n",
    "    data=[features, labels], \n",
    "    data_sampler=data_sampler,\n",
    "    sample_dataset_len=sample_dataset_len,\n",
    ")\n",
    "# Iterate federated dataset to get artificial user dataset\n",
    "print(\"\\nUser dataset size follows a Poisson distribution: \")\n",
    "for i in range(5):\n",
    "    user_dataset, seed = next(federated_dataset)\n",
    "    print(f\"\\tArtificial user {i} has size of {len(user_dataset)}\")"
   ]
  },
  {
   "cell_type": "code",
   "execution_count": 10,
   "id": "0b7eeaa4-7c53-4f67-a849-15d2a822aec8",
   "metadata": {},
   "outputs": [],
   "source": [
    "# For visualization in the notebook\n",
    "!pip -q install matplotlib PyQt5"
   ]
  },
  {
   "cell_type": "code",
   "execution_count": 11,
   "id": "42036245-3f62-48a8-b004-782e591456cc",
   "metadata": {},
   "outputs": [
    {
     "data": {
      "image/png": "[encoded data removed]",
      "text/plain": [
       "<Figure size 640x480 with 1 Axes>"
      ]
     },
     "metadata": {},
     "output_type": "display_data"
    }
   ],
   "source": [
    "import matplotlib.pyplot as plt\n",
    "\n",
    "# Visualize the size of user dataset with Poisson distribution\n",
    "n = 500\n",
    "plt.hist([len(next(federated_dataset)[0]) for _ in range(n)])\n",
    "plt.title('Poisson User Data Size')\n",
    "plt.xlabel('Data size')\n",
    "plt.ylabel('Count')\n",
    "plt.show()"
   ]
  },
  {
   "cell_type": "markdown",
   "id": "f6a557b6-89c6-414e-9c53-26eb859d0498",
   "metadata": {},
   "source": [
    "### 4. Creating non-IID Artificial Federated Dataset\n",
    "As mentioned before, in the real federated setting, the federated data has many non-IID characteristics in its distribution. This section shows how to artificially simulate the case for a classification dataset where the user label distribution is non-IID and follows a Dirichlet distribution (a common assumption in federated learning research). "
   ]
  },
  {
   "cell_type": "markdown",
   "id": "23eefd21-b0a2-40f2-aa87-ab6793fad10a",
   "metadata": {},
   "source": [
    "#### 4.1 Sampling non-IID user dataset dynamically with `ArtificialFederatedDataset`\n",
    "The first option is to change the `data_sampler` in a way so that the user label distribution follows a Dirichlet distribution. The user dataset is sampled on the fly and there is no fixed user partition like as in [Section 3.2](#3.2-Partitioning-the-dataset-into-fixed-artificial-users-with-FederatedDataset) below."
   ]
  },
  {
   "cell_type": "code",
   "execution_count": 12,
   "id": "4be5ebb8-cd2c-4751-9741-31450bf7c941",
   "metadata": {},
   "outputs": [
    {
     "name": "stdout",
     "output_type": "stream",
     "text": [
      "ArtificialFederatedDataset with Dirichlet label distribution: \n",
      "\tArtificial user 0 has size of 20 with unique labels=[0 1]\n",
      "\tArtificial user 1 has size of 20 with unique labels=[1 4]\n",
      "\tArtificial user 2 has size of 20 with unique labels=[0 1]\n",
      "\tArtificial user 3 has size of 20 with unique labels=[0]\n",
      "\tArtificial user 4 has size of 20 with unique labels=[1 4]\n"
     ]
    }
   ],
   "source": [
    "# Create data sampler to sample each artificial user has label distribution follows a Dirichlet distribution.\n",
    "dirichlet_alpha = [0.1] * 5\n",
    "data_sampler = get_data_sampler(sample_type=\"dirichlet\", labels=labels, alpha=dirichlet_alpha)\n",
    "\n",
    "# Create an artificial federated dataset with a Dirichlet data sampler\n",
    "sample_dataset_len = lambda: 20\n",
    "federated_dataset = ArtificialFederatedDataset.from_slices(\n",
    "    data=[features, labels], \n",
    "    data_sampler=data_sampler,\n",
    "    sample_dataset_len=sample_dataset_len,\n",
    ")\n",
    "# Iterate federated dataset to get artificial user dataset\n",
    "print(\"ArtificialFederatedDataset with Dirichlet label distribution: \")\n",
    "for i in range(5):\n",
    "    user_dataset, seed = next(federated_dataset)\n",
    "    print(f\"\\tArtificial user {i} has size of {len(user_dataset)} with unique labels={np.unique(user_dataset.raw_data[1])}\")"
   ]
  },
  {
   "cell_type": "code",
   "execution_count": 13,
   "id": "f7ec6ba8-b68c-451f-b87a-5a08f106c5c1",
   "metadata": {},
   "outputs": [
    {
     "data": {
      "image/png": "[encoded data removed]",
      "text/plain": [
       "<Figure size 640x480 with 1 Axes>"
      ]
     },
     "metadata": {},
     "output_type": "display_data"
    }
   ],
   "source": [
    "# Visualize the number of user unique labels with Dirichlet distribution\n",
    "n = 500\n",
    "unique_labels = [len(np.unique(next(federated_dataset)[0].raw_data[1])) for _ in range(n)]\n",
    "values, counts = np.unique(unique_labels, return_counts=True)\n",
    "plt.bar(values, counts)\n",
    "plt.title('Dirichlet User Labels')\n",
    "plt.xlabel('Unique number of labels')\n",
    "plt.ylabel('Count')\n",
    "plt.show()"
   ]
  },
  {
   "cell_type": "markdown",
   "id": "822505be-d51f-4983-89c9-c0b664d85f91",
   "metadata": {},
   "source": [
    "#### 4.2 Partitioning the dataset into fixed artificial users with `FederatedDataset`\n",
    "An alternative to the above is to partition the original dataset into a fixed set of artificial users where each user's label distribution follows a Dirichlet distribution. The difference of this option is that the user partitions are constructed once using all data and remains the same throughout the training. "
   ]
  },
  {
   "cell_type": "code",
   "execution_count": 14,
   "id": "8b78c088-6b89-4527-a7db-64fb761b8a58",
   "metadata": {},
   "outputs": [
    {
     "name": "stdout",
     "output_type": "stream",
     "text": [
      "FederatedDataset with Dirichlet label distribution: \n",
      "\tArtificial user 0 has size of 20 with unique labels=[0]\n",
      "\tArtificial user 1 has size of 20 with unique labels=[3 4]\n",
      "\tArtificial user 2 has size of 20 with unique labels=[0 4]\n",
      "\tArtificial user 3 has size of 20 with unique labels=[2]\n",
      "\tArtificial user 4 has size of 20 with unique labels=[0]\n"
     ]
    }
   ],
   "source": [
    "# Create a federated dataset with fixed user partition\n",
    "# alpha=0.01 is a extreme case where each user likely has only data from 1 class\n",
    "federated_dataset = FederatedDataset.from_slices_with_dirichlet_class_distribution(\n",
    "    data=[features, labels],\n",
    "    labels=labels,\n",
    "    alpha=0.01,\n",
    "    user_dataset_len_sampler=sample_dataset_len)\n",
    "\n",
    "# Iterate federated dataset to get artificial user dataset\n",
    "print(\"FederatedDataset with Dirichlet label distribution: \")\n",
    "for i in range(5):\n",
    "    user_dataset, seed = next(federated_dataset)\n",
    "    print(f\"\\tArtificial user {i} has size of {len(user_dataset)} with unique labels={np.unique(user_dataset.raw_data[1])}\")"
   ]
  },
  {
   "cell_type": "markdown",
   "id": "6137e7f3-9907-468d-8425-1e691834780d",
   "metadata": {},
   "source": [
    "### 5. Customizing Federated Dataset\n",
    "This section covers customizations to federated dataset for different needs, in case the above general usage does not satisify."
   ]
  },
  {
   "cell_type": "markdown",
   "id": "b4ce63b0-5a36-46b7-bf95-d5e5c804ad16",
   "metadata": {},
   "source": [
    "#### 5.1 Creating memory-efficient HDF5 Federated Dataset\n",
    "Many ML datasets can get too large to fit into memory and HDF5 is a memory friendly format for processing Numpy arrays. HDF5 can be easily integrated with `FederatedDataset` for large scale PFL experiments."
   ]
  },
  {
   "cell_type": "code",
   "execution_count": 15,
   "id": "648bd9dd-1570-44da-a4f9-9f464a713415",
   "metadata": {},
   "outputs": [
    {
     "name": "stdout",
     "output_type": "stream",
     "text": [
      "Customized HDF5 FederatedDataset with real user partition: \n",
      "\tReal user with user_id=17 has size of 18.\n",
      "\tReal user with user_id=6 has size of 7.\n",
      "\tReal user with user_id=0 has size of 1.\n",
      "\tReal user with user_id=8 has size of 9.\n",
      "\tReal user with user_id=17 has size of 18.\n"
     ]
    }
   ],
   "source": [
    "import h5py\n",
    "import tempfile\n",
    "\n",
    "# Create a HDF5 file.\n",
    "temp = tempfile.NamedTemporaryFile()\n",
    "with h5py.File(temp.name, 'w') as h5:\n",
    "    for user_id in user_id_to_data:\n",
    "        features, labels = user_id_to_data[user_id]\n",
    "        h5[f'/{user_id}/features'] = features\n",
    "        h5[f'/{user_id}/labels'] = labels\n",
    "\n",
    "# Customized function for creating a user dataset given the user ID\n",
    "def make_dataset_fn(user_id):\n",
    "    with h5py.File(temp.name, 'r') as h5:\n",
    "        features = np.array(h5[f'/{user_id}/features'])\n",
    "        labels = np.array(h5[f'/{user_id}/labels'])\n",
    "        # Randomly shuffle the user dataset each time when loading\n",
    "        data_order = np.random.permutation(len(features))\n",
    "    return Dataset(raw_data=[features[data_order], labels[data_order]], user_id=user_id)\n",
    "\n",
    "# Create FederatedDataset with the customized make_dataset_fn\n",
    "federated_dataset = FederatedDataset(make_dataset_fn=make_dataset_fn, user_sampler=user_sampler)\n",
    "\n",
    "# Iterate federated dataset to get artificial user dataset\n",
    "print(\"Customized HDF5 FederatedDataset with real user partition: \")\n",
    "for i in range(5):\n",
    "    user_dataset, seed = next(federated_dataset)\n",
    "    print(f\"\\tReal user with user_id={user_dataset.user_id} has size of {len(user_dataset)}.\")\n",
    "\n",
    "# Delete the temp HDF5 file\n",
    "temp.close()"
   ]
  },
  {
   "cell_type": "markdown",
   "id": "70397726-252b-4395-8f3b-113ca44d7d93",
   "metadata": {},
   "source": [
    "#### 5.2 Creating `ArtificialFederatedDataset` from HuggingFace datasets \n",
    "HuggingFace [datasets](https://huggingface.co/datasets) provides a collection of ML datasets and it can be integrated with `pfl` easily to create `ArtificialFederatedDataset`."
   ]
  },
  {
   "cell_type": "code",
   "execution_count": 16,
   "id": "c95fa7e5-b1df-4f64-8fc6-079a0be8a353",
   "metadata": {},
   "outputs": [],
   "source": [
    "# Install the HuggingFace modules first\n",
    "!pip3 -q install datasets transformers"
   ]
  },
  {
   "cell_type": "code",
   "execution_count": 17,
   "id": "9173903f-f631-4e6b-97fb-a349a0b68a81",
   "metadata": {},
   "outputs": [
    {
     "name": "stderr",
     "output_type": "stream",
     "text": [
      "/Users/congzhengsong/Repos/nnlm-pfl-deps/miniconda3/envs/pfl-py310/lib/python3.10/site-packages/tqdm/auto.py:21: TqdmWarning: IProgress not found. Please update jupyter and ipywidgets. See https://ipywidgets.readthedocs.io/en/stable/user_install.html\n",
      "  from .autonotebook import tqdm as notebook_tqdm\n",
      "2024-01-19 14:51:06.724183: I tensorflow/core/platform/cpu_feature_guard.cc:182] This TensorFlow binary is optimized to use available CPU instructions in performance-critical operations.\n",
      "To enable the following instructions: AVX2 FMA, in other operations, rebuild TensorFlow with the appropriate compiler flags.\n",
      "You're using a BertTokenizerFast tokenizer. Please note that with a fast tokenizer, using the `__call__` method is faster than using a method to encode the text followed by a call to the `pad` method to get a padded encoding.\n"
     ]
    },
    {
     "name": "stdout",
     "output_type": "stream",
     "text": [
      "\n",
      "HuggingFace User dataset size follows a Poisson distribution: \n",
      "\tArtificial user 0 has size of 14\n",
      "\tArtificial user 1 has size of 16\n",
      "\tArtificial user 2 has size of 22\n",
      "\tArtificial user 3 has size of 14\n",
      "\tArtificial user 4 has size of 15\n"
     ]
    },
    {
     "name": "stderr",
     "output_type": "stream",
     "text": [
      "/Users/congzhengsong/Repos/nnlm-pfl-deps/miniconda3/envs/pfl-py310/lib/python3.10/site-packages/transformers/tokenization_utils_base.py:2636: UserWarning: `max_length` is ignored when `padding`=`True` and there is no truncation strategy. To pad to max length, use `padding='max_length'`.\n",
      "  warnings.warn(\n"
     ]
    }
   ],
   "source": [
    "from datasets import load_dataset\n",
    "from transformers import AutoTokenizer, DataCollatorWithPadding\n",
    "\n",
    "\n",
    "# Follow the tutorial from https://huggingface.co/docs/datasets/use_dataset\n",
    "tokenizer = AutoTokenizer.from_pretrained(\"bert-base-uncased\")\n",
    "hf_dataset = load_dataset(\"rotten_tomatoes\", split=\"train\").map(lambda x: tokenizer(x['text']), batched=True)\n",
    "hf_dataset.set_format(type=\"torch\", columns=[\"input_ids\", \"token_type_ids\", \"attention_mask\", \"label\"])\n",
    "data_collator = DataCollatorWithPadding(tokenizer, max_length=64)\n",
    "\n",
    "def make_dataset_fn(indices):\n",
    "    data = data_collator([hf_dataset[int(i)] for i in indices])\n",
    "    return PyTorchTensorDataset(tensors=tuple(data.values()))\n",
    "\n",
    "data_sampler = get_data_sampler(sample_type=\"random\", max_bound=len(hf_dataset))\n",
    "sample_dataset_len = lambda: max(1, np.random.poisson(16))\n",
    "federated_dataset = ArtificialFederatedDataset(\n",
    "    make_dataset_fn=make_dataset_fn,\n",
    "    data_sampler=data_sampler,\n",
    "    sample_dataset_len=sample_dataset_len)\n",
    "\n",
    "# Iterate federated dataset to get artificial user dataset\n",
    "print(\"\\nHuggingFace User dataset size follows a Poisson distribution: \")\n",
    "for i in range(5):\n",
    "    user_dataset, seed = next(federated_dataset)\n",
    "    print(f\"\\tArtificial user {i} has size of {len(user_dataset)}\")"
   ]
  }
 ],
 "metadata": {
  "kernelspec": {
   "display_name": "Python 3 (ipykernel)",
   "language": "python",
   "name": "python3"
  },
  "language_info": {
   "codemirror_mode": {
    "name": "ipython",
    "version": 3
   },
   "file_extension": ".py",
   "mimetype": "text/x-python",
   "name": "python",
   "nbconvert_exporter": "python",
   "pygments_lexer": "ipython3",
   "version": "3.10.13"
  }
 },
 "nbformat": 4,
 "nbformat_minor": 5
}
